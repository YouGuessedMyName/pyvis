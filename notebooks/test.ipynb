{
 "cells": [
  {
   "cell_type": "code",
   "execution_count": 1,
   "id": "1a11c386-0f89-46d7-9b1a-cde5cceb7699",
   "metadata": {},
   "outputs": [],
   "source": [
    "import sys,os\n",
    "import networkx as nx\n",
    "sys.path.insert(0,os.path.realpath('..'))\n",
    "from pyvis.network import Network"
   ]
  },
  {
   "cell_type": "code",
   "execution_count": 4,
   "id": "7486d399-97bd-4e73-8a42-36b3f90d90ee",
   "metadata": {},
   "outputs": [
    {
     "name": "stdout",
     "output_type": "stream",
     "text": [
      "<class 'pyvis.options.Options'>\n",
      "example.html\n"
     ]
    },
    {
     "data": {
      "text/html": [
       "\n",
       "        <iframe\n",
       "            width=\"100%\"\n",
       "            height=\"600px\"\n",
       "            src=\"example.html\"\n",
       "            frameborder=\"0\"\n",
       "            allowfullscreen\n",
       "            \n",
       "        ></iframe>\n",
       "        "
      ],
      "text/plain": [
       "<IPython.lib.display.IFrame at 0x1ddc647deb0>"
      ]
     },
     "execution_count": 4,
     "metadata": {},
     "output_type": "execute_result"
    }
   ],
   "source": [
    "g = Network(notebook=True, cdn_resources=\"remote\")\n",
    "g.from_nx(nx.florentine_families_graph())\n",
    "print(type(g.options))\n",
    "# g.add_edges([\n",
    "#     (0, 2),\n",
    "#     (0, 3),\n",
    "#     (0, 4),\n",
    "#     (1, 1),\n",
    "#     (1, 3),\n",
    "#     (1, 2)\n",
    "# ])\n",
    "g.set_options(\"\"\"\n",
    "var options = {\n",
    "    \"nodes\": {\n",
    "        \"color\": {\n",
    "            \"background\": \"rgba(255,255,255,1)\"\n",
    "        }\n",
    "    }\n",
    "}\"\"\")\n",
    "# g.set_options(\"\"\"\n",
    "# var options = {\n",
    "#     \"nodes\": {\n",
    "#         \"borderWidth\":3,\n",
    "#         \"color\": \"#000000\"\n",
    "#     }\n",
    "# }\n",
    "# \"\"\")\n",
    "print(g.options)\n",
    "g.show(\"example.html\")"
   ]
  },
  {
   "cell_type": "code",
   "execution_count": null,
   "id": "5577c900-6fa3-47f1-8e38-93399afaf025",
   "metadata": {},
   "outputs": [],
   "source": []
  },
  {
   "cell_type": "code",
   "execution_count": null,
   "id": "89573c13-05ae-4883-b271-766d25334e5d",
   "metadata": {},
   "outputs": [],
   "source": []
  }
 ],
 "metadata": {
  "kernelspec": {
   "display_name": "Python 3 (ipykernel)",
   "language": "python",
   "name": "python3"
  },
  "language_info": {
   "codemirror_mode": {
    "name": "ipython",
    "version": 3
   },
   "file_extension": ".py",
   "mimetype": "text/x-python",
   "name": "python",
   "nbconvert_exporter": "python",
   "pygments_lexer": "ipython3",
   "version": "3.12.2"
  }
 },
 "nbformat": 4,
 "nbformat_minor": 5
}
